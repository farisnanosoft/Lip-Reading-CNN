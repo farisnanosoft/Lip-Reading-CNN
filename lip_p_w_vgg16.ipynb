{
  "nbformat": 4,
  "nbformat_minor": 0,
  "metadata": {
    "colab": {
      "provenance": [],
      "include_colab_link": true
    },
    "kernelspec": {
      "name": "python3",
      "display_name": "Python 3"
    },
    "accelerator": "GPU"
  },
  "cells": [
    {
      "cell_type": "markdown",
      "metadata": {
        "id": "view-in-github",
        "colab_type": "text"
      },
      "source": [
        "<a href=\"https://colab.research.google.com/github/farisnanosoft/Lip-Reading-CNN/blob/main/lip_p_w_vgg16.ipynb\" target=\"_parent\"><img src=\"https://colab.research.google.com/assets/colab-badge.svg\" alt=\"Open In Colab\"/></a>"
      ]
    },
    {
      "metadata": {
        "id": "3g8ESWQlw0mH",
        "colab": {
          "base_uri": "https://localhost:8080/",
          "height": 107
        },
        "outputId": "20191535-d12f-4c52-96f7-6078fb7312f9"
      },
      "cell_type": "code",
      "source": [
        "!apt-get install -y -qq software-properties-common python-software-properties module-init-tools\n",
        "!add-apt-repository -y ppa:alessandro-strada/ppa 2>&1 > /dev/null\n",
        "!apt-get update -qq 2>&1 > /dev/null\n",
        "!apt-get -y install -qq google-drive-ocamlfuse fuse\n",
        "from google.colab import auth\n",
        "auth.authenticate_user()\n",
        "from oauth2client.client import GoogleCredentials\n",
        "creds = GoogleCredentials.get_application_default()\n",
        "import getpass\n",
        "!google-drive-ocamlfuse -headless -id={creds.client_id} -secret={creds.client_secret} < /dev/null 2>&1 | grep URL\n",
        "vcode = getpass.getpass()\n",
        "!echo {vcode} | google-drive-ocamlfuse -headless -id={creds.client_id} -secret={creds.client_secret}"
      ],
      "execution_count": null,
      "outputs": [
        {
          "output_type": "stream",
          "text": [
            "Please, open the following URL in a web browser: https://accounts.google.com/o/oauth2/auth?client_id=32555940559.apps.googleusercontent.com&redirect_uri=urn%3Aietf%3Awg%3Aoauth%3A2.0%3Aoob&scope=https%3A%2F%2Fwww.googleapis.com%2Fauth%2Fdrive&response_type=code&access_type=offline&approval_prompt=force\r\n",
            "··········\n",
            "Please, open the following URL in a web browser: https://accounts.google.com/o/oauth2/auth?client_id=32555940559.apps.googleusercontent.com&redirect_uri=urn%3Aietf%3Awg%3Aoauth%3A2.0%3Aoob&scope=https%3A%2F%2Fwww.googleapis.com%2Fauth%2Fdrive&response_type=code&access_type=offline&approval_prompt=force\n",
            "Please enter the verification code: Access token retrieved correctly.\n"
          ],
          "name": "stdout"
        }
      ]
    },
    {
      "metadata": {
        "id": "rdUb9AMOxomp"
      },
      "cell_type": "code",
      "source": [
        "!mkdir -p drive\n",
        "!google-drive-ocamlfuse drive"
      ],
      "execution_count": null,
      "outputs": []
    },
    {
      "metadata": {
        "id": "sGd4Unh6xc1N",
        "colab": {
          "base_uri": "https://localhost:8080/",
          "height": 191
        },
        "outputId": "b6b706a3-1f30-4dd3-d8b3-e3837690bc15"
      },
      "cell_type": "code",
      "source": [
        "import os\n",
        "os.chdir(\"drive/\")\n",
        "!ls"
      ],
      "execution_count": null,
      "outputs": [
        {
          "output_type": "stream",
          "text": [
            "ADFWeek1_Participant.zip  Personal\r\n",
            "Colab Notebooks\t\t  PRO\r\n",
            "drive\t\t\t  __pycache__\r\n",
            "lip_dataset.h5\t\t  resnets_utils (1736a74d).py\r\n",
            "lip_dataset_p_w.h5\t  resnets_utils.py\r\n",
            "lip_p_w_vgg16.ipynb\t  SAMSUNG_MEMO\r\n",
            "lip_res50.ipynb\t\t  test3.jpg\r\n",
            "model_celeb_vgg16.h5\t  this_message_in_html.htm.odt\r\n",
            "model_lip.h5\t\t  train_lip.h5\r\n",
            "model_lip_vgg16.h5\r\n"
          ],
          "name": "stdout"
        }
      ]
    },
    {
      "metadata": {
        "id": "pjFch23zxTJi",
        "colab": {
          "base_uri": "https://localhost:8080/",
          "height": 35
        },
        "outputId": "6e2fdca2-7121-4b0e-c5fd-be4c6b217bce"
      },
      "cell_type": "code",
      "source": [
        "import numpy as np\n",
        "from keras import layers\n",
        "from keras.layers import Input, Add, Dense, Dropout, Activation, ZeroPadding2D, BatchNormalization, Flatten, Conv2D, AveragePooling2D, MaxPooling2D, GlobalMaxPooling2D, GlobalAveragePooling2D\n",
        "from keras.models import Model, load_model\n",
        "from keras.preprocessing import image\n",
        "from keras.preprocessing.image import ImageDataGenerator\n",
        "from keras.utils import layer_utils\n",
        "from keras.utils.data_utils import get_file\n",
        "from keras.applications.imagenet_utils import preprocess_input\n",
        "#import pydot\n",
        "from IPython.display import SVG\n",
        "from keras.utils.vis_utils import model_to_dot\n",
        "from keras.utils import plot_model\n",
        "from resnets_utils import *\n",
        "from keras.initializers import glorot_uniform\n",
        "import scipy.misc\n",
        "from matplotlib.pyplot import imshow\n",
        "%matplotlib inline\n",
        "\n",
        "import keras.backend as K\n",
        "K.set_image_data_format('channels_last')\n",
        "K.set_learning_phase(1)\n",
        "K.clear_session()"
      ],
      "execution_count": null,
      "outputs": [
        {
          "output_type": "stream",
          "text": [
            "Using TensorFlow backend.\n"
          ],
          "name": "stderr"
        }
      ]
    },
    {
      "metadata": {
        "id": "hZ4yEjJG0Ovr"
      },
      "cell_type": "code",
      "source": [
        "!pip install keras_vggface"
      ],
      "execution_count": null,
      "outputs": []
    },
    {
      "metadata": {
        "id": "iwfrIdgRyds-"
      },
      "cell_type": "code",
      "source": [
        "import numpy as np\n",
        "from keras_vggface import VGGFace\n",
        "from keras.preprocessing import image\n",
        "from keras_vggface import utils\n",
        "import keras\n",
        "import unittest"
      ],
      "execution_count": null,
      "outputs": []
    },
    {
      "metadata": {
        "id": "R52xDDvR0uXz"
      },
      "cell_type": "code",
      "source": [
        "keras.backend.set_image_dim_ordering('tf')\n",
        "model = VGGFace(model='vgg16')\n",
        "model.save('model_celeb_vgg16.h5')"
      ],
      "execution_count": null,
      "outputs": []
    },
    {
      "metadata": {
        "id": "nFFdNSuK8NPc"
      },
      "cell_type": "code",
      "source": [
        "img = image.load_img('test3.jpg', target_size=(224, 224))\n",
        "x = image.img_to_array(img)\n",
        "x = np.expand_dims(x, axis=0)\n",
        "x = utils.preprocess_input(x, version=1)\n",
        "preds = model.predict(x)\n",
        "#print ('\\n', \"VGG16\")\n",
        "#print('\\n',preds)\n",
        "print('\\n','Predicted:', utils.decode_predictions(preds))"
      ],
      "execution_count": null,
      "outputs": []
    },
    {
      "metadata": {
        "id": "eqK5K_641HMD",
        "colab": {
          "base_uri": "https://localhost:8080/",
          "height": 1095
        },
        "outputId": "93587ca6-5e38-4c14-90d3-09dfe9420464"
      },
      "cell_type": "code",
      "source": [
        "model = load_model('model_celeb_vgg16.h5')\n",
        "model.summary()"
      ],
      "execution_count": null,
      "outputs": [
        {
          "output_type": "stream",
          "text": [
            "_________________________________________________________________\n",
            "Layer (type)                 Output Shape              Param #   \n",
            "=================================================================\n",
            "input_1 (InputLayer)         (None, 224, 224, 3)       0         \n",
            "_________________________________________________________________\n",
            "conv1_1 (Conv2D)             (None, 224, 224, 64)      1792      \n",
            "_________________________________________________________________\n",
            "conv1_2 (Conv2D)             (None, 224, 224, 64)      36928     \n",
            "_________________________________________________________________\n",
            "pool1 (MaxPooling2D)         (None, 112, 112, 64)      0         \n",
            "_________________________________________________________________\n",
            "conv2_1 (Conv2D)             (None, 112, 112, 128)     73856     \n",
            "_________________________________________________________________\n",
            "conv2_2 (Conv2D)             (None, 112, 112, 128)     147584    \n",
            "_________________________________________________________________\n",
            "pool2 (MaxPooling2D)         (None, 56, 56, 128)       0         \n",
            "_________________________________________________________________\n",
            "conv3_1 (Conv2D)             (None, 56, 56, 256)       295168    \n",
            "_________________________________________________________________\n",
            "conv3_2 (Conv2D)             (None, 56, 56, 256)       590080    \n",
            "_________________________________________________________________\n",
            "conv3_3 (Conv2D)             (None, 56, 56, 256)       590080    \n",
            "_________________________________________________________________\n",
            "pool3 (MaxPooling2D)         (None, 28, 28, 256)       0         \n",
            "_________________________________________________________________\n",
            "conv4_1 (Conv2D)             (None, 28, 28, 512)       1180160   \n",
            "_________________________________________________________________\n",
            "conv4_2 (Conv2D)             (None, 28, 28, 512)       2359808   \n",
            "_________________________________________________________________\n",
            "conv4_3 (Conv2D)             (None, 28, 28, 512)       2359808   \n",
            "_________________________________________________________________\n",
            "pool4 (MaxPooling2D)         (None, 14, 14, 512)       0         \n",
            "_________________________________________________________________\n",
            "conv5_1 (Conv2D)             (None, 14, 14, 512)       2359808   \n",
            "_________________________________________________________________\n",
            "conv5_2 (Conv2D)             (None, 14, 14, 512)       2359808   \n",
            "_________________________________________________________________\n",
            "conv5_3 (Conv2D)             (None, 14, 14, 512)       2359808   \n",
            "_________________________________________________________________\n",
            "pool5 (MaxPooling2D)         (None, 7, 7, 512)         0         \n",
            "_________________________________________________________________\n",
            "flatten (Flatten)            (None, 25088)             0         \n",
            "_________________________________________________________________\n",
            "fc6 (Dense)                  (None, 4096)              102764544 \n",
            "_________________________________________________________________\n",
            "fc6/relu (Activation)        (None, 4096)              0         \n",
            "_________________________________________________________________\n",
            "fc7 (Dense)                  (None, 4096)              16781312  \n",
            "_________________________________________________________________\n",
            "fc7/relu (Activation)        (None, 4096)              0         \n",
            "_________________________________________________________________\n",
            "fc8 (Dense)                  (None, 2622)              10742334  \n",
            "_________________________________________________________________\n",
            "fc8/softmax (Activation)     (None, 2622)              0         \n",
            "=================================================================\n",
            "Total params: 145,002,878\n",
            "Trainable params: 145,002,878\n",
            "Non-trainable params: 0\n",
            "_________________________________________________________________\n"
          ],
          "name": "stdout"
        },
        {
          "output_type": "stream",
          "text": [
            "/usr/local/lib/python3.6/dist-packages/keras/models.py:282: UserWarning: No training configuration found in save file: the model was *not* compiled. Compile it manually.\n",
            "  warnings.warn('No training configuration found in save file: '\n"
          ],
          "name": "stderr"
        }
      ]
    },
    {
      "metadata": {
        "id": "GmAnFtat3Rx7"
      },
      "cell_type": "code",
      "source": [
        "with h5py.File(\"lip_dataset_p_w.h5\", \"r\") as hf:\n",
        "    X_train_orig, Y_train_orig, X_test_orig, Y_test_orig=hf[\"train_orig_x\"][:],hf[\"train_orig_y\"][:],hf[\"valid_orig_x\"][:],hf[\"valid_orig_y\"][:]"
      ],
      "execution_count": null,
      "outputs": []
    },
    {
      "metadata": {
        "id": "SDGCg3BA7InL",
        "colab": {
          "base_uri": "https://localhost:8080/",
          "height": 121
        },
        "outputId": "c2f4a689-3649-4c11-8e67-9192de96e5a7"
      },
      "cell_type": "code",
      "source": [
        "#imshow(X_train_orig[0])\n",
        "# Normalize image vectors\n",
        "X_train,X_test=[],[]\n",
        "X_train = X_train_orig/255.\n",
        "X_test = X_test_orig/255.\n",
        "\n",
        "Y_train_orig=Y_train_orig-1\n",
        "Y_test_orig=Y_test_orig-1\n",
        "# Convert training and test labels to one hot matrices\n",
        "Y_train = convert_to_one_hot(Y_train_orig, 20).T\n",
        "Y_test = convert_to_one_hot(Y_test_orig, 20).T\n",
        "\n",
        "print (\"number of training examples = \" + str(X_train.shape[0]))\n",
        "print (\"number of test examples = \" + str(X_test.shape[0]))\n",
        "print (\"X_train shape: \" + str(X_train.shape))\n",
        "print (\"Y_train shape: \" + str(Y_train.shape))\n",
        "print (\"X_test shape: \" + str(X_test.shape))\n",
        "print (\"Y_test shape: \" + str(Y_test.shape))\n"
      ],
      "execution_count": null,
      "outputs": [
        {
          "output_type": "stream",
          "text": [
            "number of training examples = 2335\n",
            "number of test examples = 200\n",
            "X_train shape: (2335, 224, 224, 3)\n",
            "Y_train shape: (2335, 20)\n",
            "X_test shape: (200, 224, 224, 3)\n",
            "Y_test shape: (200, 20)\n"
          ],
          "name": "stdout"
        }
      ]
    },
    {
      "metadata": {
        "id": "u1g9GzC_2D2z",
        "colab": {
          "base_uri": "https://localhost:8080/",
          "height": 52
        },
        "outputId": "67a21a34-3ea1-4d1c-f104-d5562bc8bc11"
      },
      "cell_type": "code",
      "source": [
        "Y_train[50]"
      ],
      "execution_count": null,
      "outputs": [
        {
          "output_type": "execute_result",
          "data": {
            "text/plain": [
              "array([0., 0., 0., 0., 0., 0., 0., 0., 0., 0., 0., 0., 0., 0., 1., 0., 0.,\n",
              "       0., 0., 0.])"
            ]
          },
          "metadata": {
            "tags": []
          },
          "execution_count": 10
        }
      ]
    },
    {
      "metadata": {
        "id": "QMrE-78w7Zs1",
        "colab": {
          "base_uri": "https://localhost:8080/",
          "height": 55
        },
        "outputId": "b337fd87-1547-42a4-c020-f719feb96ca9"
      },
      "cell_type": "code",
      "source": [
        "# use transfer learning for re-training the last layers\n",
        "# Freeze first 25 layers, so that we can retrain 26th and so on using our classes.\n",
        "#for layer in model.layers[:-5]:\n",
        "#   layer.trainable = False\n",
        "\n",
        "for layer in model.layers:\n",
        "    layer.trainable = False\n",
        "#seed=0\n",
        "# Adding our new layers\n",
        "#top_layers = model.output\n",
        "top_layers = model.get_layer('flatten').output\n",
        "#top_layers = Flatten(input_shape=model.output_shape[1:])(top_layers)\n",
        "#top_layers = Flatten(name='flatten_a')(top_layers)\n",
        "#top_layers = Dense(10, activation=\"relu\",input_shape=(10,))(top_layers)\n",
        "#top_layers = Dropout(0.5)(top_layers)\n",
        "#top_layers = Dense(512, activation=\"relu\")(top_layers)\n",
        "top_layers = Dense(64, activation=\"relu\",name='output_layer_a')(top_layers)\n",
        "#top_layers = Dropout(0.5)(top_layers)\n",
        "top_layers = Dense(20, activation=\"softmax\",name='output_layer_b')(top_layers)\n",
        "\n",
        "# Add top layers on top of freezed (not re-trained) layers of VGG16\n",
        "model_final = Model(input = model.input, output = top_layers)\n",
        "\n",
        "# Compile the model\n",
        "#model_final.compile(loss = \"binary_crossentropy\", optimizer = optimizers.SGD(lr=0.0001, momentum=0.9), metrics=[\"accuracy\"])\n",
        "model_final.compile(optimizer='adam', loss='categorical_crossentropy', metrics=['accuracy'])\n",
        "\n",
        "# Initialize test and training data\n",
        "datagen = ImageDataGenerator(\n",
        "    featurewise_center=True,\n",
        "    featurewise_std_normalization=True,\n",
        "    rotation_range=20,\n",
        "    width_shift_range=0.2,\n",
        "    height_shift_range=0.2,\n",
        "    horizontal_flip=True)\n",
        "datagen.fit(X_train)\n"
      ],
      "execution_count": null,
      "outputs": [
        {
          "output_type": "stream",
          "text": [
            "/usr/local/lib/python3.6/dist-packages/ipykernel_launcher.py:18: UserWarning: Update your `Model` call to the Keras 2 API: `Model(inputs=Tensor(\"in..., outputs=Tensor(\"ou...)`\n"
          ],
          "name": "stderr"
        }
      ]
    },
    {
      "metadata": {
        "id": "CKD_FW4J7oHV",
        "colab": {
          "base_uri": "https://localhost:8080/",
          "height": 401
        },
        "outputId": "825195a5-3955-4e3d-d722-967f7dbf2e4e"
      },
      "cell_type": "code",
      "source": [
        "model_final.fit(X_train, Y_train, shuffle=True, epochs = 10, batch_size = 64)"
      ],
      "execution_count": null,
      "outputs": [
        {
          "output_type": "stream",
          "text": [
            "Epoch 1/10\n",
            "2335/2335 [==============================] - 23s 10ms/step - loss: 0.1537 - acc: 0.9966\n",
            "Epoch 2/10\n",
            "2335/2335 [==============================] - 23s 10ms/step - loss: 0.1391 - acc: 0.9974\n",
            "Epoch 3/10\n",
            "2335/2335 [==============================] - 22s 10ms/step - loss: 0.1249 - acc: 0.9979\n",
            "Epoch 4/10\n",
            "2335/2335 [==============================] - 23s 10ms/step - loss: 0.1136 - acc: 0.9991\n",
            "Epoch 5/10\n",
            "2335/2335 [==============================] - 22s 10ms/step - loss: 0.1023 - acc: 0.9996\n",
            "Epoch 6/10\n",
            "2335/2335 [==============================] - 23s 10ms/step - loss: 0.0936 - acc: 0.9991\n",
            "Epoch 7/10\n",
            "2048/2335 [=========================>....] - ETA: 2s - loss: 0.0866 - acc: 0.9995"
          ],
          "name": "stdout"
        },
        {
          "output_type": "stream",
          "text": [
            "2335/2335 [==============================] - 22s 10ms/step - loss: 0.0863 - acc: 0.9996\n",
            "Epoch 8/10\n",
            "2335/2335 [==============================] - 22s 10ms/step - loss: 0.0788 - acc: 0.9996\n",
            "Epoch 9/10\n",
            "2335/2335 [==============================] - 22s 10ms/step - loss: 0.0719 - acc: 1.0000\n",
            "Epoch 10/10\n",
            "2335/2335 [==============================] - 22s 10ms/step - loss: 0.0661 - acc: 0.9996\n"
          ],
          "name": "stdout"
        },
        {
          "output_type": "execute_result",
          "data": {
            "text/plain": [
              "<keras.callbacks.History at 0x7f45eef38898>"
            ]
          },
          "metadata": {
            "tags": []
          },
          "execution_count": 28
        }
      ]
    },
    {
      "metadata": {
        "id": "dCa6zC9H7qbe",
        "colab": {
          "base_uri": "https://localhost:8080/",
          "height": 139
        },
        "outputId": "2a041ebd-9148-4d09-fa03-53f131bec861"
      },
      "cell_type": "code",
      "source": [
        "model_final.fit_generator(datagen.flow(X_train, Y_train, batch_size=75),shuffle=True,\n",
        "                    steps_per_epoch=len(X_train) / 32, epochs=3)"
      ],
      "execution_count": null,
      "outputs": [
        {
          "output_type": "stream",
          "text": [
            "Epoch 1/3\n",
            "37/36 [==============================] - 43s 1s/step - loss: 3.0873 - acc: 0.4502\n",
            "Epoch 2/3\n",
            "37/36 [==============================] - 44s 1s/step - loss: 1.7324 - acc: 0.5224\n",
            "Epoch 3/3\n",
            "37/36 [==============================] - 43s 1s/step - loss: 1.4349 - acc: 0.5669\n"
          ],
          "name": "stdout"
        },
        {
          "output_type": "execute_result",
          "data": {
            "text/plain": [
              "<keras.callbacks.History at 0x7f6835cf8eb8>"
            ]
          },
          "metadata": {
            "tags": []
          },
          "execution_count": 161
        }
      ]
    },
    {
      "metadata": {
        "id": "o4EBFwwfG2xc"
      },
      "cell_type": "code",
      "source": [
        "model_final=load_model('model_lip_vgg16.h5')"
      ],
      "execution_count": null,
      "outputs": []
    },
    {
      "metadata": {
        "id": "K834V-l17tKY",
        "colab": {
          "base_uri": "https://localhost:8080/",
          "height": 69
        },
        "outputId": "720239f1-e53f-4f68-ded5-fc0ec3f8efc4"
      },
      "cell_type": "code",
      "source": [
        "preds = model_final.evaluate(X_test, Y_test)\n",
        "print (\"Loss = \" + str(preds[0]))\n",
        "print (\"Test Accuracy = \" + str(preds[1]))"
      ],
      "execution_count": null,
      "outputs": [
        {
          "output_type": "stream",
          "text": [
            "200/200 [==============================] - 2s 10ms/step\n",
            "Loss = 2.5560735702514648\n",
            "Test Accuracy = 0.32\n"
          ],
          "name": "stdout"
        }
      ]
    },
    {
      "metadata": {
        "id": "RmOC5ed-7xsO"
      },
      "cell_type": "code",
      "source": [
        "model_final.save('model_lip_p_w_vgg16.h5')"
      ],
      "execution_count": null,
      "outputs": []
    },
    {
      "metadata": {
        "id": "vSc2IqXJ7zsE",
        "colab": {
          "base_uri": "https://localhost:8080/",
          "height": 901
        },
        "outputId": "f53bb210-c142-402a-e4c1-9b9c9c4e5393"
      },
      "cell_type": "code",
      "source": [
        "model_final.summary()"
      ],
      "execution_count": null,
      "outputs": [
        {
          "output_type": "stream",
          "text": [
            "_________________________________________________________________\n",
            "Layer (type)                 Output Shape              Param #   \n",
            "=================================================================\n",
            "input_1 (InputLayer)         (None, 224, 224, 3)       0         \n",
            "_________________________________________________________________\n",
            "conv1_1 (Conv2D)             (None, 224, 224, 64)      1792      \n",
            "_________________________________________________________________\n",
            "conv1_2 (Conv2D)             (None, 224, 224, 64)      36928     \n",
            "_________________________________________________________________\n",
            "pool1 (MaxPooling2D)         (None, 112, 112, 64)      0         \n",
            "_________________________________________________________________\n",
            "conv2_1 (Conv2D)             (None, 112, 112, 128)     73856     \n",
            "_________________________________________________________________\n",
            "conv2_2 (Conv2D)             (None, 112, 112, 128)     147584    \n",
            "_________________________________________________________________\n",
            "pool2 (MaxPooling2D)         (None, 56, 56, 128)       0         \n",
            "_________________________________________________________________\n",
            "conv3_1 (Conv2D)             (None, 56, 56, 256)       295168    \n",
            "_________________________________________________________________\n",
            "conv3_2 (Conv2D)             (None, 56, 56, 256)       590080    \n",
            "_________________________________________________________________\n",
            "conv3_3 (Conv2D)             (None, 56, 56, 256)       590080    \n",
            "_________________________________________________________________\n",
            "pool3 (MaxPooling2D)         (None, 28, 28, 256)       0         \n",
            "_________________________________________________________________\n",
            "conv4_1 (Conv2D)             (None, 28, 28, 512)       1180160   \n",
            "_________________________________________________________________\n",
            "conv4_2 (Conv2D)             (None, 28, 28, 512)       2359808   \n",
            "_________________________________________________________________\n",
            "conv4_3 (Conv2D)             (None, 28, 28, 512)       2359808   \n",
            "_________________________________________________________________\n",
            "pool4 (MaxPooling2D)         (None, 14, 14, 512)       0         \n",
            "_________________________________________________________________\n",
            "conv5_1 (Conv2D)             (None, 14, 14, 512)       2359808   \n",
            "_________________________________________________________________\n",
            "conv5_2 (Conv2D)             (None, 14, 14, 512)       2359808   \n",
            "_________________________________________________________________\n",
            "conv5_3 (Conv2D)             (None, 14, 14, 512)       2359808   \n",
            "_________________________________________________________________\n",
            "pool5 (MaxPooling2D)         (None, 7, 7, 512)         0         \n",
            "_________________________________________________________________\n",
            "flatten (Flatten)            (None, 25088)             0         \n",
            "_________________________________________________________________\n",
            "output_layer_a (Dense)       (None, 64)                1605696   \n",
            "_________________________________________________________________\n",
            "output_layer_b (Dense)       (None, 10)                650       \n",
            "=================================================================\n",
            "Total params: 16,321,034\n",
            "Trainable params: 1,606,346\n",
            "Non-trainable params: 14,714,688\n",
            "_________________________________________________________________\n"
          ],
          "name": "stdout"
        }
      ]
    },
    {
      "metadata": {
        "id": "FB_ZbceE71gr",
        "colab": {
          "base_uri": "https://localhost:8080/",
          "height": 52
        },
        "outputId": "989a0b8b-caa9-4253-b3ad-f3df1938e73c"
      },
      "cell_type": "code",
      "source": [
        "#imshow(X_test[0])\n",
        "x_e=np.expand_dims(X_test[53], axis=0)\n",
        "print(model_final.predict(x_e),np.argmax(model_final.predict(x_e))+1,np.argmax(Y_test[53])+1)"
      ],
      "execution_count": null,
      "outputs": [
        {
          "output_type": "stream",
          "text": [
            "[[0.02896376 0.06358255 0.05546102 0.21203507 0.08605727 0.14556655\n",
            "  0.11297292 0.13156238 0.12667178 0.03712667]] 4 6\n"
          ],
          "name": "stdout"
        }
      ]
    },
    {
      "metadata": {
        "id": "mFo9yF-GMgGQ"
      },
      "cell_type": "code",
      "source": [
        "y_pred_test = model_final.predict(X_test)\n",
        "y_pred_test_classes = np.argmax(y_pred_test, axis=1)\n",
        "y_pred_test_max_probas = np.max(y_pred_test, axis=1)"
      ],
      "execution_count": null,
      "outputs": []
    },
    {
      "metadata": {
        "id": "T7DEud4wNy1W",
        "colab": {
          "base_uri": "https://localhost:8080/",
          "height": 35
        },
        "outputId": "b08d67d6-96e8-4c54-8a70-29794d02cbcf"
      },
      "cell_type": "code",
      "source": [
        "Y_test_orig[1:10].T"
      ],
      "execution_count": null,
      "outputs": [
        {
          "output_type": "execute_result",
          "data": {
            "text/plain": [
              "array([9, 9, 9, 9, 9, 9, 9, 9, 9], dtype=int32)"
            ]
          },
          "metadata": {
            "tags": []
          },
          "execution_count": 16
        }
      ]
    },
    {
      "metadata": {
        "id": "wrta_CiQH_ek",
        "colab": {
          "base_uri": "https://localhost:8080/",
          "height": 685
        },
        "outputId": "e23f02be-cf4a-42f3-df93-9fb9935d5451"
      },
      "cell_type": "code",
      "source": [
        "y_classes=['Begin','Choose','Connection','Navigation','Next','Previous','Start','Stop','Hello','Web',\"Stop navigation\",\"Excuse me\",\"I am sorry\",\"Thank you\",\"Good bye\",\"I love this game\",\"Nice to meet you\",\"You are welcome\",\"How are you\",\"Have a good time\"]\n",
        "from sklearn.metrics import confusion_matrix,accuracy_score\n",
        "import matplotlib.pyplot as plt\n",
        "plt.figure(figsize=(12,10))\n",
        "plt.title('confusion matrix', fontsize=16)\n",
        "plt.imshow(confusion_matrix(Y_test_orig,y_pred_test_classes))\n",
        "plt.xticks(np.arange(20),y_classes,rotation=45,fontsize=12)\n",
        "plt.yticks(np.arange(20),y_classes,fontsize=12)\n",
        "plt.colorbar()\n",
        "plt.show()\n",
        "print('Test accuracy:',accuracy_score(Y_test_orig,y_pred_test_classes))"
      ],
      "execution_count": null,
      "outputs": [
        {
          "output_type": "display_data",
          "data": {
            "image/png": "[encoded data removed]",
            "text/plain": [
              "<matplotlib.figure.Figure at 0x7f45ef0c1b38>"
            ]
          },
          "metadata": {
            "tags": []
          }
        },
        {
          "output_type": "stream",
          "text": [
            "Test accuracy: 0.32\n"
          ],
          "name": "stdout"
        }
      ]
    }
  ]
}