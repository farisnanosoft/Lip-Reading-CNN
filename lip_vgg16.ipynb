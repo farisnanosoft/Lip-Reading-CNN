{
  "nbformat": 4,
  "nbformat_minor": 0,
  "metadata": {
    "colab": {
      "provenance": [],
      "include_colab_link": true
    },
    "kernelspec": {
      "name": "python3",
      "display_name": "Python 3"
    },
    "accelerator": "GPU"
  },
  "cells": [
    {
      "cell_type": "markdown",
      "metadata": {
        "id": "view-in-github",
        "colab_type": "text"
      },
      "source": [
        "<a href=\"https://colab.research.google.com/github/farisnanosoft/Lip-Reading-CNN/blob/main/lip_vgg16.ipynb\" target=\"_parent\"><img src=\"https://colab.research.google.com/assets/colab-badge.svg\" alt=\"Open In Colab\"/></a>"
      ]
    },
    {
      "metadata": {
        "id": "3g8ESWQlw0mH",
        "colab": {
          "base_uri": "https://localhost:8080/",
          "height": 2537
        },
        "outputId": "2824cfb0-9ad1-4e5a-f13e-50e6b7d2c4f2"
      },
      "cell_type": "code",
      "source": [
        "!apt-get install -y -qq software-properties-common python-software-properties module-init-tools\n",
        "!add-apt-repository -y ppa:alessandro-strada/ppa 2>&1 > /dev/null\n",
        "!apt-get update -qq 2>&1 > /dev/null\n",
        "!apt-get -y install -qq google-drive-ocamlfuse fuse\n",
        "from google.colab import auth\n",
        "auth.authenticate_user()\n",
        "from oauth2client.client import GoogleCredentials\n",
        "creds = GoogleCredentials.get_application_default()\n",
        "import getpass\n",
        "!google-drive-ocamlfuse -headless -id={creds.client_id} -secret={creds.client_secret} < /dev/null 2>&1 | grep URL\n",
        "vcode = getpass.getpass()\n",
        "!echo {vcode} | google-drive-ocamlfuse -headless -id={creds.client_id} -secret={creds.client_secret}"
      ],
      "execution_count": null,
      "outputs": [
        {
          "output_type": "stream",
          "text": [
            "Preconfiguring packages ...\n",
            "Selecting previously unselected package cron.\n",
            "(Reading database ... 18396 files and directories currently installed.)\n",
            "Preparing to unpack .../00-cron_3.0pl1-128ubuntu5_amd64.deb ...\n",
            "Unpacking cron (3.0pl1-128ubuntu5) ...\n",
            "Selecting previously unselected package libapparmor1:amd64.\n",
            "Preparing to unpack .../01-libapparmor1_2.11.0-2ubuntu17.1_amd64.deb ...\n",
            "Unpacking libapparmor1:amd64 (2.11.0-2ubuntu17.1) ...\n",
            "Selecting previously unselected package libdbus-1-3:amd64.\n",
            "Preparing to unpack .../02-libdbus-1-3_1.10.22-1ubuntu1_amd64.deb ...\n",
            "Unpacking libdbus-1-3:amd64 (1.10.22-1ubuntu1) ...\n",
            "Selecting previously unselected package dbus.\n",
            "Preparing to unpack .../03-dbus_1.10.22-1ubuntu1_amd64.deb ...\n",
            "Unpacking dbus (1.10.22-1ubuntu1) ...\n",
            "Preparing to unpack .../04-gnupg_2.1.15-1ubuntu8.1_amd64.deb ...\n",
            "Unpacking gnupg (2.1.15-1ubuntu8.1) over (2.1.15-1ubuntu8) ...\n",
            "Preparing to unpack .../05-gnupg-agent_2.1.15-1ubuntu8.1_amd64.deb ...\n",
            "Unpacking gnupg-agent (2.1.15-1ubuntu8.1) over (2.1.15-1ubuntu8) ...\n",
            "Selecting previously unselected package dirmngr.\n",
            "Preparing to unpack .../06-dirmngr_2.1.15-1ubuntu8.1_amd64.deb ...\n",
            "Unpacking dirmngr (2.1.15-1ubuntu8.1) ...\n",
            "Selecting previously unselected package distro-info-data.\n",
            "Preparing to unpack .../07-distro-info-data_0.36ubuntu0.2_all.deb ...\n",
            "Unpacking distro-info-data (0.36ubuntu0.2) ...\n",
            "Selecting previously unselected package libkmod2:amd64.\n",
            "Preparing to unpack .../08-libkmod2_24-1ubuntu2_amd64.deb ...\n",
            "Unpacking libkmod2:amd64 (24-1ubuntu2) ...\n",
            "Selecting previously unselected package kmod.\n",
            "Preparing to unpack .../09-kmod_24-1ubuntu2_amd64.deb ...\n",
            "Unpacking kmod (24-1ubuntu2) ...\n",
            "Selecting previously unselected package lsb-release.\n",
            "Preparing to unpack .../10-lsb-release_9.20160110ubuntu5_all.deb ...\n",
            "Unpacking lsb-release (9.20160110ubuntu5) ...\n",
            "Selecting previously unselected package libgirepository-1.0-1:amd64.\n",
            "Preparing to unpack .../11-libgirepository-1.0-1_1.54.1-1_amd64.deb ...\n",
            "Unpacking libgirepository-1.0-1:amd64 (1.54.1-1) ...\n",
            "Selecting previously unselected package gir1.2-glib-2.0:amd64.\n",
            "Preparing to unpack .../12-gir1.2-glib-2.0_1.54.1-1_amd64.deb ...\n",
            "Unpacking gir1.2-glib-2.0:amd64 (1.54.1-1) ...\n",
            "Selecting previously unselected package iso-codes.\n",
            "Preparing to unpack .../13-iso-codes_3.75-1_all.deb ...\n",
            "Unpacking iso-codes (3.75-1) ...\n",
            "Selecting previously unselected package libdbus-glib-1-2:amd64.\n",
            "Preparing to unpack .../14-libdbus-glib-1-2_0.108-2_amd64.deb ...\n",
            "Unpacking libdbus-glib-1-2:amd64 (0.108-2) ...\n",
            "Selecting previously unselected package python-apt-common.\n",
            "Preparing to unpack .../15-python-apt-common_1.4.0~beta3build2_all.deb ...\n",
            "Unpacking python-apt-common (1.4.0~beta3build2) ...\n",
            "Selecting previously unselected package python3-apt.\n",
            "Preparing to unpack .../16-python3-apt_1.4.0~beta3build2_amd64.deb ...\n",
            "Unpacking python3-apt (1.4.0~beta3build2) ...\n",
            "Selecting previously unselected package python3-dbus.\n",
            "Preparing to unpack .../17-python3-dbus_1.2.4-1build3_amd64.deb ...\n",
            "Unpacking python3-dbus (1.2.4-1build3) ...\n",
            "Selecting previously unselected package python3-gi.\n",
            "Preparing to unpack .../18-python3-gi_3.24.1-2build1_amd64.deb ...\n",
            "Unpacking python3-gi (3.24.1-2build1) ...\n",
            "Selecting previously unselected package module-init-tools.\n",
            "Preparing to unpack .../19-module-init-tools_24-1ubuntu2_all.deb ...\n",
            "Unpacking module-init-tools (24-1ubuntu2) ...\n",
            "Selecting previously unselected package python-apt.\n",
            "Preparing to unpack .../20-python-apt_1.4.0~beta3build2_amd64.deb ...\n",
            "Unpacking python-apt (1.4.0~beta3build2) ...\n",
            "Selecting previously unselected package python-pycurl.\n",
            "Preparing to unpack .../21-python-pycurl_7.43.0-2build2_amd64.deb ...\n",
            "Unpacking python-pycurl (7.43.0-2build2) ...\n",
            "Selecting previously unselected package python-software-properties.\n",
            "Preparing to unpack .../22-python-software-properties_0.96.24.17_all.deb ...\n",
            "Unpacking python-software-properties (0.96.24.17) ...\n",
            "Selecting previously unselected package python3-software-properties.\n",
            "Preparing to unpack .../23-python3-software-properties_0.96.24.17_all.deb ...\n",
            "Unpacking python3-software-properties (0.96.24.17) ...\n",
            "Selecting previously unselected package software-properties-common.\n",
            "Preparing to unpack .../24-software-properties-common_0.96.24.17_all.deb ...\n",
            "Unpacking software-properties-common (0.96.24.17) ...\n",
            "Selecting previously unselected package unattended-upgrades.\n",
            "Preparing to unpack .../25-unattended-upgrades_0.98ubuntu1.1_all.deb ...\n",
            "Unpacking unattended-upgrades (0.98ubuntu1.1) ...\n",
            "Setting up python-apt-common (1.4.0~beta3build2) ...\n",
            "Setting up python3-apt (1.4.0~beta3build2) ...\n",
            "Setting up iso-codes (3.75-1) ...\n",
            "Setting up distro-info-data (0.36ubuntu0.2) ...\n",
            "Setting up python-pycurl (7.43.0-2build2) ...\n",
            "Setting up lsb-release (9.20160110ubuntu5) ...\n",
            "Setting up libgirepository-1.0-1:amd64 (1.54.1-1) ...\n",
            "Setting up libkmod2:amd64 (24-1ubuntu2) ...\n",
            "Setting up gir1.2-glib-2.0:amd64 (1.54.1-1) ...\n",
            "Processing triggers for libc-bin (2.26-0ubuntu2.1) ...\n",
            "Setting up libapparmor1:amd64 (2.11.0-2ubuntu17.1) ...\n",
            "Setting up unattended-upgrades (0.98ubuntu1.1) ...\n",
            "\n",
            "Creating config file /etc/apt/apt.conf.d/20auto-upgrades with new version\n"
          ],
          "name": "stdout"
        },
        {
          "output_type": "stream",
          "text": [
            "\r\n",
            "Creating config file /etc/apt/apt.conf.d/50unattended-upgrades with new version\n",
            "invoke-rc.d: could not determine current runlevel\n",
            "invoke-rc.d: policy-rc.d denied execution of start.\n",
            "Setting up gnupg-agent (2.1.15-1ubuntu8.1) ...\n",
            "Setting up dirmngr (2.1.15-1ubuntu8.1) ...\n",
            "Setting up cron (3.0pl1-128ubuntu5) ...\n",
            "Adding group `crontab' (GID 102) ...\n",
            "Done.\n",
            "update-rc.d: warning: start and stop actions are no longer supported; falling back to defaults\n",
            "update-rc.d: warning: stop runlevel arguments (1) do not match cron Default-Stop values (none)\n",
            "invoke-rc.d: could not determine current runlevel\n",
            "invoke-rc.d: policy-rc.d denied execution of start.\n",
            "Setting up libdbus-1-3:amd64 (1.10.22-1ubuntu1) ...\n",
            "Setting up kmod (24-1ubuntu2) ...\n",
            "Setting up libdbus-glib-1-2:amd64 (0.108-2) ...\n",
            "Setting up gnupg (2.1.15-1ubuntu8.1) ...\n",
            "Setting up python3-gi (3.24.1-2build1) ...\n",
            "Setting up module-init-tools (24-1ubuntu2) ...\n",
            "Setting up python3-software-properties (0.96.24.17) ...\n",
            "Setting up dbus (1.10.22-1ubuntu1) ...\n",
            "Setting up python-apt (1.4.0~beta3build2) ...\n",
            "Setting up python3-dbus (1.2.4-1build3) ...\n",
            "Setting up python-software-properties (0.96.24.17) ...\n",
            "Setting up software-properties-common (0.96.24.17) ...\n",
            "Processing triggers for libc-bin (2.26-0ubuntu2.1) ...\n",
            "Processing triggers for dbus (1.10.22-1ubuntu1) ...\n",
            "gpg: keybox '/tmp/tmpbut0tvis/pubring.gpg' created\n",
            "gpg: /tmp/tmpbut0tvis/trustdb.gpg: trustdb created\n",
            "gpg: key AD5F235DF639B041: public key \"Launchpad PPA for Alessandro Strada\" imported\n",
            "gpg: Total number processed: 1\n",
            "gpg:               imported: 1\n",
            "Warning: apt-key output should not be parsed (stdout is not a terminal)\n",
            "Selecting previously unselected package libfuse2:amd64.\n",
            "(Reading database ... 19804 files and directories currently installed.)\n",
            "Preparing to unpack .../libfuse2_2.9.7-1ubuntu1_amd64.deb ...\n",
            "Unpacking libfuse2:amd64 (2.9.7-1ubuntu1) ...\n",
            "Selecting previously unselected package fuse.\n",
            "Preparing to unpack .../fuse_2.9.7-1ubuntu1_amd64.deb ...\n",
            "Unpacking fuse (2.9.7-1ubuntu1) ...\n",
            "Selecting previously unselected package google-drive-ocamlfuse.\n",
            "Preparing to unpack .../google-drive-ocamlfuse_0.6.21-0ubuntu2_amd64.deb ...\n",
            "Unpacking google-drive-ocamlfuse (0.6.21-0ubuntu2) ...\n",
            "Setting up libfuse2:amd64 (2.9.7-1ubuntu1) ...\n",
            "Processing triggers for libc-bin (2.26-0ubuntu2.1) ...\n",
            "Setting up fuse (2.9.7-1ubuntu1) ...\n",
            "Setting up google-drive-ocamlfuse (0.6.21-0ubuntu2) ...\n"
          ],
          "name": "stdout"
        }
      ]
    },
    {
      "metadata": {
        "id": "rdUb9AMOxomp"
      },
      "cell_type": "code",
      "source": [
        "!mkdir -p drive\n",
        "!google-drive-ocamlfuse drive"
      ],
      "execution_count": null,
      "outputs": []
    },
    {
      "metadata": {
        "id": "sGd4Unh6xc1N",
        "colab": {
          "base_uri": "https://localhost:8080/",
          "height": 225
        },
        "outputId": "0cf9ab98-e1c2-4aad-9009-c0bcdb1a2ccc"
      },
      "cell_type": "code",
      "source": [
        "import os\n",
        "os.chdir(\"drive/\")\n",
        "!ls"
      ],
      "execution_count": null,
      "outputs": [
        {
          "output_type": "stream",
          "text": [
            "ADFWeek1_Participant.zip  model_lip_vgg16.h5\r\n",
            "Colab Notebooks\t\t  Personal\r\n",
            "drive\t\t\t  previous_test_concat (1).jpg\r\n",
            "face_detection_cv.ipynb   previous_test_concat.jpg\r\n",
            "lip_dataset.h5\t\t  PRO\r\n",
            "lip_dataset_p_w.h5\t  __pycache__\r\n",
            "lip_dataset_p_w_v1.h5\t  resnets_utils (1736a74d).py\r\n",
            "lip_p_w_vgg16.ipynb\t  resnets_utils.py\r\n",
            "lip_res50.ipynb\t\t  SAMSUNG_MEMO\r\n",
            "model_celeb_vgg16.h5\t  test3.jpg\r\n",
            "model_lip.h5\t\t  this_message_in_html.htm.odt\r\n",
            "model_lip_p_w_vgg16.h5\t  train_lip.h5\r\n"
          ],
          "name": "stdout"
        }
      ]
    },
    {
      "metadata": {
        "id": "HzXo0WjIthpb",
        "colab": {
          "base_uri": "https://localhost:8080/",
          "height": 35
        },
        "outputId": "a5c4cc64-886b-4668-be22-9276eeb86ea9"
      },
      "cell_type": "code",
      "source": [
        "!ls"
      ],
      "execution_count": null,
      "outputs": [
        {
          "output_type": "stream",
          "text": [
            "datalab\r\n"
          ],
          "name": "stdout"
        }
      ]
    },
    {
      "metadata": {
        "id": "pjFch23zxTJi",
        "colab": {
          "base_uri": "https://localhost:8080/",
          "height": 35
        },
        "outputId": "c27760b1-6363-43d9-dd5c-153226d73fe3"
      },
      "cell_type": "code",
      "source": [
        "import numpy as np\n",
        "from keras import layers\n",
        "from keras.layers import Input, Add, Dense, Dropout, Activation, ZeroPadding2D, BatchNormalization, Flatten, Conv2D, AveragePooling2D, MaxPooling2D, GlobalMaxPooling2D, GlobalAveragePooling2D, regularizers\n",
        "from keras.models import Model, load_model\n",
        "from keras.preprocessing import image\n",
        "from keras.preprocessing.image import ImageDataGenerator\n",
        "from keras.utils import layer_utils\n",
        "from keras.utils.data_utils import get_file\n",
        "from keras.applications.imagenet_utils import preprocess_input\n",
        "#import pydot\n",
        "from IPython.display import SVG\n",
        "from keras.utils.vis_utils import model_to_dot\n",
        "from keras.utils import plot_model\n",
        "from resnets_utils import *\n",
        "from keras.initializers import glorot_uniform\n",
        "import scipy.misc\n",
        "from matplotlib.pyplot import imshow\n",
        "%matplotlib inline\n",
        "\n",
        "import keras.backend as K\n",
        "K.set_image_data_format('channels_last')\n",
        "K.set_learning_phase(1)\n",
        "K.clear_session()"
      ],
      "execution_count": null,
      "outputs": [
        {
          "output_type": "stream",
          "text": [
            "Using TensorFlow backend.\n"
          ],
          "name": "stderr"
        }
      ]
    },
    {
      "metadata": {
        "id": "ja1ZM_jhvd8V"
      },
      "cell_type": "code",
      "source": [],
      "execution_count": null,
      "outputs": []
    },
    {
      "metadata": {
        "id": "hZ4yEjJG0Ovr"
      },
      "cell_type": "code",
      "source": [
        "!pip install keras_vggface"
      ],
      "execution_count": null,
      "outputs": []
    },
    {
      "metadata": {
        "id": "iwfrIdgRyds-"
      },
      "cell_type": "code",
      "source": [
        "import numpy as np\n",
        "from keras_vggface import VGGFace\n",
        "from keras.preprocessing import image\n",
        "from keras_vggface import utils\n",
        "import keras\n",
        "import unittest"
      ],
      "execution_count": null,
      "outputs": []
    },
    {
      "metadata": {
        "id": "R52xDDvR0uXz"
      },
      "cell_type": "code",
      "source": [
        "keras.backend.set_image_dim_ordering('tf')\n",
        "model = VGGFace(model='vgg16')\n",
        "model.save('model_celeb_vgg16.h5')"
      ],
      "execution_count": null,
      "outputs": []
    },
    {
      "metadata": {
        "id": "nFFdNSuK8NPc"
      },
      "cell_type": "code",
      "source": [
        "img = image.load_img('test3.jpg', target_size=(224, 224))\n",
        "x = image.img_to_array(img)\n",
        "x = np.expand_dims(x, axis=0)\n",
        "x = utils.preprocess_input(x, version=1)\n",
        "preds = model.predict(x)\n",
        "#print ('\\n', \"VGG16\")\n",
        "#print('\\n',preds)\n",
        "print('\\n','Predicted:', utils.decode_predictions(preds))"
      ],
      "execution_count": null,
      "outputs": []
    },
    {
      "metadata": {
        "id": "eqK5K_641HMD",
        "colab": {
          "base_uri": "https://localhost:8080/",
          "height": 1095
        },
        "outputId": "f551b7f1-e42d-4363-8491-ec6637c18955"
      },
      "cell_type": "code",
      "source": [
        "model = load_model('model_celeb_vgg16.h5')\n",
        "model.summary()"
      ],
      "execution_count": null,
      "outputs": [
        {
          "output_type": "stream",
          "text": [
            "_________________________________________________________________\n",
            "Layer (type)                 Output Shape              Param #   \n",
            "=================================================================\n",
            "input_1 (InputLayer)         (None, 224, 224, 3)       0         \n",
            "_________________________________________________________________\n",
            "conv1_1 (Conv2D)             (None, 224, 224, 64)      1792      \n",
            "_________________________________________________________________\n",
            "conv1_2 (Conv2D)             (None, 224, 224, 64)      36928     \n",
            "_________________________________________________________________\n",
            "pool1 (MaxPooling2D)         (None, 112, 112, 64)      0         \n",
            "_________________________________________________________________\n",
            "conv2_1 (Conv2D)             (None, 112, 112, 128)     73856     \n",
            "_________________________________________________________________\n",
            "conv2_2 (Conv2D)             (None, 112, 112, 128)     147584    \n",
            "_________________________________________________________________\n",
            "pool2 (MaxPooling2D)         (None, 56, 56, 128)       0         \n",
            "_________________________________________________________________\n",
            "conv3_1 (Conv2D)             (None, 56, 56, 256)       295168    \n",
            "_________________________________________________________________\n",
            "conv3_2 (Conv2D)             (None, 56, 56, 256)       590080    \n",
            "_________________________________________________________________\n",
            "conv3_3 (Conv2D)             (None, 56, 56, 256)       590080    \n",
            "_________________________________________________________________\n",
            "pool3 (MaxPooling2D)         (None, 28, 28, 256)       0         \n",
            "_________________________________________________________________\n",
            "conv4_1 (Conv2D)             (None, 28, 28, 512)       1180160   \n",
            "_________________________________________________________________\n",
            "conv4_2 (Conv2D)             (None, 28, 28, 512)       2359808   \n",
            "_________________________________________________________________\n",
            "conv4_3 (Conv2D)             (None, 28, 28, 512)       2359808   \n",
            "_________________________________________________________________\n",
            "pool4 (MaxPooling2D)         (None, 14, 14, 512)       0         \n",
            "_________________________________________________________________\n",
            "conv5_1 (Conv2D)             (None, 14, 14, 512)       2359808   \n",
            "_________________________________________________________________\n",
            "conv5_2 (Conv2D)             (None, 14, 14, 512)       2359808   \n",
            "_________________________________________________________________\n",
            "conv5_3 (Conv2D)             (None, 14, 14, 512)       2359808   \n",
            "_________________________________________________________________\n",
            "pool5 (MaxPooling2D)         (None, 7, 7, 512)         0         \n",
            "_________________________________________________________________\n",
            "flatten (Flatten)            (None, 25088)             0         \n",
            "_________________________________________________________________\n",
            "fc6 (Dense)                  (None, 4096)              102764544 \n",
            "_________________________________________________________________\n",
            "fc6/relu (Activation)        (None, 4096)              0         \n",
            "_________________________________________________________________\n",
            "fc7 (Dense)                  (None, 4096)              16781312  \n",
            "_________________________________________________________________\n",
            "fc7/relu (Activation)        (None, 4096)              0         \n",
            "_________________________________________________________________\n",
            "fc8 (Dense)                  (None, 2622)              10742334  \n",
            "_________________________________________________________________\n",
            "fc8/softmax (Activation)     (None, 2622)              0         \n",
            "=================================================================\n",
            "Total params: 145,002,878\n",
            "Trainable params: 145,002,878\n",
            "Non-trainable params: 0\n",
            "_________________________________________________________________\n"
          ],
          "name": "stdout"
        },
        {
          "output_type": "stream",
          "text": [
            "/usr/local/lib/python3.6/dist-packages/keras/models.py:282: UserWarning: No training configuration found in save file: the model was *not* compiled. Compile it manually.\n",
            "  warnings.warn('No training configuration found in save file: '\n"
          ],
          "name": "stderr"
        }
      ]
    },
    {
      "metadata": {
        "id": "GmAnFtat3Rx7"
      },
      "cell_type": "code",
      "source": [
        "#with h5py.File(\"lip_dataset.h5\", \"r\") as hf:\n",
        "#    X_train_orig, Y_train_orig, X_test_orig, Y_test_orig=hf[\"train_orig_x\"][:],hf[\"train_orig_y\"][:],hf[\"valid_orig_x\"][:],hf[\"valid_orig_y\"][:]\n",
        "with h5py.File(\"lip_dataset_p_w.h5\", \"r\") as hf:\n",
        "    X_train_orig, Y_train_orig, X_valid_orig, Y_valid_orig, X_test_orig, Y_test_orig=hf[\"train_orig_x\"][:],hf[\"train_orig_y\"][:],hf[\"valid_orig_x\"][:],hf[\"valid_orig_y\"][:],hf[\"test_orig_x\"][:],hf[\"test_orig_y\"][:]"
      ],
      "execution_count": null,
      "outputs": []
    },
    {
      "metadata": {
        "id": "6Du6918ME2M2",
        "colab": {
          "base_uri": "https://localhost:8080/",
          "height": 35
        },
        "outputId": "5cfdcba8-7fd1-492c-8eac-9d53cab9cce7"
      },
      "cell_type": "code",
      "source": [
        "X_train_orig, Y_train_orig, X_valid_orig, Y_valid_orig, X_test_orig, Y_test_orig=X_train_orig[Y_train_orig<=10], Y_train_orig[Y_train_orig<=10], X_valid_orig[Y_valid_orig<=10], Y_valid_orig[Y_valid_orig<=10], X_test_orig[Y_test_orig<=10], Y_test_orig[Y_test_orig<=10]\n",
        "#X_train_orig, Y_train_orig, X_valid_orig, Y_valid_orig, X_test_orig, Y_test_orig=X_train_orig[Y_train_orig!=9], Y_train_orig[Y_train_orig!=9], X_valid_orig[Y_valid_orig!=9], Y_valid_orig[Y_valid_orig!=9], X_test_orig[Y_test_orig!=9], Y_test_orig[Y_test_orig!=9]\n",
        "Y_train_orig[1:10]<=10"
      ],
      "execution_count": null,
      "outputs": [
        {
          "output_type": "execute_result",
          "data": {
            "text/plain": [
              "array([ True,  True,  True,  True,  True,  True,  True,  True,  True])"
            ]
          },
          "metadata": {
            "tags": []
          },
          "execution_count": 8
        }
      ]
    },
    {
      "metadata": {
        "id": "z3RwbcSHGBt-",
        "colab": {
          "base_uri": "https://localhost:8080/",
          "height": 173
        },
        "outputId": "3315e798-57ad-448d-fe7b-9859e65827df"
      },
      "cell_type": "code",
      "source": [
        "#imshow(X_train_orig[0])\n",
        "# Normalize image vectors\n",
        "X_train,X_valid,X_test=[],[],[]\n",
        "X_train = X_train_orig/255.\n",
        "X_valid = X_valid_orig/255.\n",
        "X_test = X_test_orig/255.\n",
        "\n",
        "Y_train_orig=Y_train_orig-1\n",
        "Y_valid_orig=Y_valid_orig-1\n",
        "Y_test_orig=Y_test_orig-1\n",
        "# Convert training and test labels to one hot matrices\n",
        "Y_train = convert_to_one_hot(Y_train_orig, 10).T\n",
        "Y_valid = convert_to_one_hot(Y_valid_orig, 10).T\n",
        "Y_test = convert_to_one_hot(Y_test_orig, 10).T\n",
        "\n",
        "print (\"number of training examples = \" + str(X_train.shape[0]))\n",
        "print (\"number of valid examples = \" + str(X_valid.shape[0]))\n",
        "print (\"number of test examples = \" + str(X_test.shape[0]))\n",
        "print (\"X_train shape: \" + str(X_train.shape))\n",
        "print (\"Y_train shape: \" + str(Y_train.shape))\n",
        "print (\"X_valid shape: \" + str(X_valid.shape))\n",
        "print (\"Y_valid shape: \" + str(Y_valid.shape))\n",
        "print (\"X_test shape: \" + str(X_test.shape))\n",
        "print (\"Y_test shape: \" + str(Y_test.shape))"
      ],
      "execution_count": null,
      "outputs": [
        {
          "output_type": "stream",
          "text": [
            "number of training examples = 1200\n",
            "number of valid examples = 100\n",
            "number of test examples = 100\n",
            "X_train shape: (1200, 224, 224, 3)\n",
            "Y_train shape: (1200, 10)\n",
            "X_valid shape: (100, 224, 224, 3)\n",
            "Y_valid shape: (100, 10)\n",
            "X_test shape: (100, 224, 224, 3)\n",
            "Y_test shape: (100, 10)\n"
          ],
          "name": "stdout"
        }
      ]
    },
    {
      "metadata": {
        "id": "SDGCg3BA7InL",
        "colab": {
          "base_uri": "https://localhost:8080/",
          "height": 121
        },
        "outputId": "0bbe8347-06fb-40c3-fdc1-c3cc00568514"
      },
      "cell_type": "code",
      "source": [
        "#imshow(X_train_orig[0])\n",
        "# Normalize image vectors\n",
        "X_train,X_test=[],[]\n",
        "X_train = X_train_orig/255.\n",
        "X_test = X_test_orig/255.\n",
        "\n",
        "Y_train_orig=Y_train_orig-1\n",
        "Y_test_orig=Y_test_orig-1\n",
        "# Convert training and test labels to one hot matrices\n",
        "Y_train = convert_to_one_hot(Y_train_orig, 10).T\n",
        "Y_test = convert_to_one_hot(Y_test_orig, 10).T\n",
        "\n",
        "print (\"number of training examples = \" + str(X_train.shape[0]))\n",
        "print (\"number of test examples = \" + str(X_test.shape[0]))\n",
        "print (\"X_train shape: \" + str(X_train.shape))\n",
        "print (\"Y_train shape: \" + str(Y_train.shape))\n",
        "print (\"X_test shape: \" + str(X_test.shape))\n",
        "print (\"Y_test shape: \" + str(Y_test.shape))\n"
      ],
      "execution_count": null,
      "outputs": [
        {
          "output_type": "stream",
          "text": [
            "number of training examples = 1162\n",
            "number of test examples = 100\n",
            "X_train shape: (1162, 224, 224, 3)\n",
            "Y_train shape: (1162, 10)\n",
            "X_test shape: (100, 224, 224, 3)\n",
            "Y_test shape: (100, 10)\n"
          ],
          "name": "stdout"
        }
      ]
    },
    {
      "metadata": {
        "id": "u1g9GzC_2D2z",
        "colab": {
          "base_uri": "https://localhost:8080/",
          "height": 35
        },
        "outputId": "0825bfb9-270f-4890-f610-d40241db1014"
      },
      "cell_type": "code",
      "source": [
        "Y_train[50]"
      ],
      "execution_count": null,
      "outputs": [
        {
          "output_type": "execute_result",
          "data": {
            "text/plain": [
              "array([0., 0., 0., 0., 0., 1., 0., 0., 0., 0.])"
            ]
          },
          "metadata": {
            "tags": []
          },
          "execution_count": 8
        }
      ]
    },
    {
      "metadata": {
        "id": "QMrE-78w7Zs1",
        "colab": {
          "base_uri": "https://localhost:8080/",
          "height": 55
        },
        "outputId": "191de839-6044-41d0-e02d-edf7359f938c"
      },
      "cell_type": "code",
      "source": [
        "# use transfer learning for re-training the last layers\n",
        "# Freeze first 25 layers, so that we can retrain 26th and so on using our classes.\n",
        "#for layer in model.layers[:-5]:\n",
        "#   layer.trainable = False\n",
        "\n",
        "for layer in model.layers:\n",
        "    layer.trainable = False\n",
        "#seed=0\n",
        "# Adding our new layers\n",
        "#top_layers = model.output\n",
        "top_layers = model.get_layer('flatten').output\n",
        "#top_layers = Flatten(input_shape=model.output_shape[1:])(top_layers)\n",
        "#top_layers = Flatten(name='flatten_a')(top_layers)\n",
        "#top_layers = Dense(10, activation=\"relu\",input_shape=(10,))(top_layers)\n",
        "#top_layers = Dropout(0.5)(top_layers)\n",
        "#top_layers = Dense(512, activation=\"relu\")(top_layers)\n",
        "top_layers = Dense(64, activation=\"relu\",kernel_regularizer=regularizers.l2(.001),name='output_layer_a')(top_layers)\n",
        "top_layers = Dense(64, activation=\"relu\",name='output_layer_b')(top_layers)\n",
        "top_layers = Dropout(0.3)(top_layers)\n",
        "top_layers = Dense(10, activation=\"softmax\",name='output_layer_c')(top_layers)\n",
        "\n",
        "# Add top layers on top of freezed (not re-trained) layers of VGG16\n",
        "model_final = Model(input = model.input, output = top_layers)\n",
        "\n",
        "# Compile the model\n",
        "#model_final.compile(loss = \"binary_crossentropy\", optimizer = optimizers.SGD(lr=0.0001, momentum=0.9), metrics=[\"accuracy\"])\n",
        "model_final.compile(optimizer='adam', loss='categorical_crossentropy', metrics=['accuracy'])\n",
        "\n",
        "# Initialize test and training data\n",
        "datagen = ImageDataGenerator(\n",
        "    rescale=1./255,channel_shift_range=.3)\n",
        "datagen.fit(X_train)\n"
      ],
      "execution_count": null,
      "outputs": [
        {
          "output_type": "stream",
          "text": [
            "/usr/local/lib/python3.6/dist-packages/ipykernel_launcher.py:19: UserWarning: Update your `Model` call to the Keras 2 API: `Model(inputs=Tensor(\"in..., outputs=Tensor(\"ou...)`\n"
          ],
          "name": "stderr"
        }
      ]
    },
    {
      "metadata": {
        "id": "TLuKcjahGy2g"
      },
      "cell_type": "code",
      "source": [
        "model_final.fit(X_train, Y_train, shuffle=True, epochs = 10, batch_size = 64)"
      ],
      "execution_count": null,
      "outputs": []
    },
    {
      "metadata": {
        "id": "CKD_FW4J7oHV",
        "colab": {
          "base_uri": "https://localhost:8080/",
          "height": 765
        },
        "outputId": "f29d0234-60ac-4269-b583-129768dd39a5"
      },
      "cell_type": "code",
      "source": [
        "model_final.fit(X_train, Y_train, shuffle=True, epochs = 20, batch_size = 64,validation_data=(X_valid, Y_valid))"
      ],
      "execution_count": null,
      "outputs": [
        {
          "output_type": "stream",
          "text": [
            "Train on 1200 samples, validate on 100 samples\n",
            "Epoch 1/20\n",
            "1200/1200 [==============================] - 13s 11ms/step - loss: 2.3408 - acc: 0.1233 - val_loss: 2.3208 - val_acc: 0.1000\n",
            "Epoch 2/20\n",
            "1200/1200 [==============================] - 12s 10ms/step - loss: 2.2011 - acc: 0.2608 - val_loss: 2.2944 - val_acc: 0.1800\n",
            "Epoch 3/20\n",
            "1200/1200 [==============================] - 12s 10ms/step - loss: 2.0374 - acc: 0.3825 - val_loss: 2.2697 - val_acc: 0.2100\n",
            "Epoch 4/20\n",
            "1200/1200 [==============================] - 12s 10ms/step - loss: 1.8443 - acc: 0.4592 - val_loss: 2.2305 - val_acc: 0.2000\n",
            "Epoch 5/20\n",
            "1200/1200 [==============================] - 12s 10ms/step - loss: 1.6056 - acc: 0.5708 - val_loss: 2.1821 - val_acc: 0.2300\n",
            "Epoch 6/20\n",
            "1200/1200 [==============================] - 12s 10ms/step - loss: 1.3594 - acc: 0.6750 - val_loss: 2.1405 - val_acc: 0.2700\n",
            "Epoch 7/20\n",
            "1200/1200 [==============================] - 12s 10ms/step - loss: 1.2140 - acc: 0.7342 - val_loss: 2.1681 - val_acc: 0.2600\n",
            "Epoch 8/20\n",
            "1200/1200 [==============================] - 12s 10ms/step - loss: 1.0387 - acc: 0.8000 - val_loss: 2.1098 - val_acc: 0.2800\n",
            "Epoch 9/20\n"
          ],
          "name": "stdout"
        },
        {
          "output_type": "stream",
          "text": [
            "1200/1200 [==============================] - 12s 10ms/step - loss: 0.9222 - acc: 0.8392 - val_loss: 2.1091 - val_acc: 0.2900\n",
            "Epoch 10/20\n",
            "1200/1200 [==============================] - 12s 10ms/step - loss: 0.8256 - acc: 0.8650 - val_loss: 2.0551 - val_acc: 0.3000\n",
            "Epoch 11/20\n",
            "1200/1200 [==============================] - 12s 10ms/step - loss: 0.7631 - acc: 0.8850 - val_loss: 2.1296 - val_acc: 0.2600\n",
            "Epoch 12/20\n",
            "1200/1200 [==============================] - 12s 10ms/step - loss: 0.6834 - acc: 0.9175 - val_loss: 2.0508 - val_acc: 0.3000\n",
            "Epoch 13/20\n",
            "1200/1200 [==============================] - 12s 10ms/step - loss: 0.6362 - acc: 0.9233 - val_loss: 2.1238 - val_acc: 0.2800\n",
            "Epoch 14/20\n",
            "1200/1200 [==============================] - 12s 10ms/step - loss: 0.5951 - acc: 0.9317 - val_loss: 2.0295 - val_acc: 0.3100\n",
            "Epoch 15/20\n",
            "1200/1200 [==============================] - 12s 10ms/step - loss: 0.5660 - acc: 0.9450 - val_loss: 2.0894 - val_acc: 0.3300\n",
            "Epoch 16/20\n",
            "1200/1200 [==============================] - 12s 10ms/step - loss: 0.5324 - acc: 0.9533 - val_loss: 2.0325 - val_acc: 0.3100\n",
            "Epoch 17/20\n",
            " 512/1200 [===========>..................] - ETA: 6s - loss: 0.4956 - acc: 0.9688"
          ],
          "name": "stdout"
        },
        {
          "output_type": "stream",
          "text": [
            "1200/1200 [==============================] - 12s 10ms/step - loss: 0.4940 - acc: 0.9608 - val_loss: 2.0564 - val_acc: 0.2700\n",
            "Epoch 18/20\n",
            "1200/1200 [==============================] - 12s 10ms/step - loss: 0.4726 - acc: 0.9625 - val_loss: 2.0018 - val_acc: 0.2700\n",
            "Epoch 19/20\n",
            "1200/1200 [==============================] - 12s 10ms/step - loss: 0.4431 - acc: 0.9792 - val_loss: 2.1177 - val_acc: 0.3000\n",
            "Epoch 20/20\n",
            "1200/1200 [==============================] - 12s 10ms/step - loss: 0.4344 - acc: 0.9650 - val_loss: 2.1163 - val_acc: 0.2800\n"
          ],
          "name": "stdout"
        },
        {
          "output_type": "execute_result",
          "data": {
            "text/plain": [
              "<keras.callbacks.History at 0x7fca17dea908>"
            ]
          },
          "metadata": {
            "tags": []
          },
          "execution_count": 31
        }
      ]
    },
    {
      "metadata": {
        "id": "dCa6zC9H7qbe",
        "colab": {
          "base_uri": "https://localhost:8080/",
          "height": 401
        },
        "outputId": "24900962-bd40-496b-8142-edf1a717b6f5"
      },
      "cell_type": "code",
      "source": [
        "model_final.fit_generator(datagen.flow(X_train, Y_train, batch_size=32),shuffle=True,\n",
        "                    steps_per_epoch=len(X_train)/32, epochs=10,validation_data=(X_valid, Y_valid),validation_steps=len(X_valid))"
      ],
      "execution_count": null,
      "outputs": [
        {
          "output_type": "stream",
          "text": [
            "Epoch 1/10\n",
            "38/37 [==============================] - 12s 326ms/step - loss: 2.3030 - acc: 0.0872 - val_loss: 2.2993 - val_acc: 0.1000\n",
            "Epoch 2/10\n",
            "38/37 [==============================] - 12s 311ms/step - loss: 2.3022 - acc: 0.1299 - val_loss: 2.3034 - val_acc: 0.1000\n",
            "Epoch 3/10\n",
            "38/37 [==============================] - 12s 311ms/step - loss: 2.3015 - acc: 0.1332 - val_loss: 2.3012 - val_acc: 0.1100\n",
            "Epoch 4/10\n",
            "38/37 [==============================] - 12s 311ms/step - loss: 2.3008 - acc: 0.1077 - val_loss: 2.3456 - val_acc: 0.1000\n",
            "Epoch 5/10\n",
            "38/37 [==============================] - 12s 311ms/step - loss: 2.2999 - acc: 0.1283 - val_loss: 2.3624 - val_acc: 0.1500\n",
            "Epoch 6/10\n",
            "38/37 [==============================] - 12s 310ms/step - loss: 2.2987 - acc: 0.1340 - val_loss: 2.4330 - val_acc: 0.1600\n",
            "Epoch 7/10\n",
            " 1/37 [..............................] - ETA: 10s - loss: 2.2940 - acc: 0.3750"
          ],
          "name": "stdout"
        },
        {
          "output_type": "stream",
          "text": [
            "38/37 [==============================] - 12s 312ms/step - loss: 2.2971 - acc: 0.1850 - val_loss: 2.4015 - val_acc: 0.1500\n",
            "Epoch 8/10\n",
            "38/37 [==============================] - 12s 310ms/step - loss: 2.2951 - acc: 0.2319 - val_loss: 2.5568 - val_acc: 0.1200\n",
            "Epoch 9/10\n",
            "38/37 [==============================] - 12s 310ms/step - loss: 2.2934 - acc: 0.1785 - val_loss: 2.6587 - val_acc: 0.1500\n",
            "Epoch 10/10\n",
            "38/37 [==============================] - 12s 309ms/step - loss: 2.2910 - acc: 0.2097 - val_loss: 2.8482 - val_acc: 0.1600\n"
          ],
          "name": "stdout"
        },
        {
          "output_type": "execute_result",
          "data": {
            "text/plain": [
              "<keras.callbacks.History at 0x7f68123d4b38>"
            ]
          },
          "metadata": {
            "tags": []
          },
          "execution_count": 42
        }
      ]
    },
    {
      "metadata": {
        "id": "o4EBFwwfG2xc"
      },
      "cell_type": "code",
      "source": [
        "model_final=load_model('model_lip_vgg16.h5')"
      ],
      "execution_count": null,
      "outputs": []
    },
    {
      "metadata": {
        "id": "K834V-l17tKY",
        "colab": {
          "base_uri": "https://localhost:8080/",
          "height": 69
        },
        "outputId": "b6f9cb64-ae71-4343-8f00-37d6db22620f"
      },
      "cell_type": "code",
      "source": [
        "preds = model_final.evaluate(X_test, Y_test)\n",
        "print (\"Loss = \" + str(preds[0]))\n",
        "print (\"Test Accuracy = \" + str(preds[1]))"
      ],
      "execution_count": null,
      "outputs": [
        {
          "output_type": "stream",
          "text": [
            "100/100 [==============================] - 1s 11ms/step\n",
            "Loss = 2.4567145252227784\n",
            "Test Accuracy = 0.23\n"
          ],
          "name": "stdout"
        }
      ]
    },
    {
      "metadata": {
        "id": "RmOC5ed-7xsO"
      },
      "cell_type": "code",
      "source": [
        "model_final.save('model_lip_vgg16.h5')"
      ],
      "execution_count": null,
      "outputs": []
    },
    {
      "metadata": {
        "id": "vSc2IqXJ7zsE",
        "colab": {
          "base_uri": "https://localhost:8080/",
          "height": 901
        },
        "outputId": "f53bb210-c142-402a-e4c1-9b9c9c4e5393"
      },
      "cell_type": "code",
      "source": [
        "model_final.summary()"
      ],
      "execution_count": null,
      "outputs": [
        {
          "output_type": "stream",
          "text": [
            "_________________________________________________________________\n",
            "Layer (type)                 Output Shape              Param #   \n",
            "=================================================================\n",
            "input_1 (InputLayer)         (None, 224, 224, 3)       0         \n",
            "_________________________________________________________________\n",
            "conv1_1 (Conv2D)             (None, 224, 224, 64)      1792      \n",
            "_________________________________________________________________\n",
            "conv1_2 (Conv2D)             (None, 224, 224, 64)      36928     \n",
            "_________________________________________________________________\n",
            "pool1 (MaxPooling2D)         (None, 112, 112, 64)      0         \n",
            "_________________________________________________________________\n",
            "conv2_1 (Conv2D)             (None, 112, 112, 128)     73856     \n",
            "_________________________________________________________________\n",
            "conv2_2 (Conv2D)             (None, 112, 112, 128)     147584    \n",
            "_________________________________________________________________\n",
            "pool2 (MaxPooling2D)         (None, 56, 56, 128)       0         \n",
            "_________________________________________________________________\n",
            "conv3_1 (Conv2D)             (None, 56, 56, 256)       295168    \n",
            "_________________________________________________________________\n",
            "conv3_2 (Conv2D)             (None, 56, 56, 256)       590080    \n",
            "_________________________________________________________________\n",
            "conv3_3 (Conv2D)             (None, 56, 56, 256)       590080    \n",
            "_________________________________________________________________\n",
            "pool3 (MaxPooling2D)         (None, 28, 28, 256)       0         \n",
            "_________________________________________________________________\n",
            "conv4_1 (Conv2D)             (None, 28, 28, 512)       1180160   \n",
            "_________________________________________________________________\n",
            "conv4_2 (Conv2D)             (None, 28, 28, 512)       2359808   \n",
            "_________________________________________________________________\n",
            "conv4_3 (Conv2D)             (None, 28, 28, 512)       2359808   \n",
            "_________________________________________________________________\n",
            "pool4 (MaxPooling2D)         (None, 14, 14, 512)       0         \n",
            "_________________________________________________________________\n",
            "conv5_1 (Conv2D)             (None, 14, 14, 512)       2359808   \n",
            "_________________________________________________________________\n",
            "conv5_2 (Conv2D)             (None, 14, 14, 512)       2359808   \n",
            "_________________________________________________________________\n",
            "conv5_3 (Conv2D)             (None, 14, 14, 512)       2359808   \n",
            "_________________________________________________________________\n",
            "pool5 (MaxPooling2D)         (None, 7, 7, 512)         0         \n",
            "_________________________________________________________________\n",
            "flatten (Flatten)            (None, 25088)             0         \n",
            "_________________________________________________________________\n",
            "output_layer_a (Dense)       (None, 64)                1605696   \n",
            "_________________________________________________________________\n",
            "output_layer_b (Dense)       (None, 10)                650       \n",
            "=================================================================\n",
            "Total params: 16,321,034\n",
            "Trainable params: 1,606,346\n",
            "Non-trainable params: 14,714,688\n",
            "_________________________________________________________________\n"
          ],
          "name": "stdout"
        }
      ]
    },
    {
      "metadata": {
        "id": "FB_ZbceE71gr",
        "colab": {
          "base_uri": "https://localhost:8080/",
          "height": 52
        },
        "outputId": "e47f62ca-8aa4-4da1-abda-9ea3d7cc8527"
      },
      "cell_type": "code",
      "source": [
        "#imshow(X_test[0])\n",
        "x_e=np.expand_dims(X_test[53], axis=0)\n",
        "print(model_final.predict(x_e),np.argmax(model_final.predict(x_e))+1,np.argmax(Y_test[53])+1)"
      ],
      "execution_count": null,
      "outputs": [
        {
          "output_type": "stream",
          "text": [
            "[[0.04833171 0.03603892 0.08017018 0.39235058 0.04579169 0.2875798\n",
            "  0.01155317 0.01450408 0.06591528 0.0177646 ]] 4 6\n"
          ],
          "name": "stdout"
        }
      ]
    },
    {
      "metadata": {
        "id": "FJ5gGXmA8fHF",
        "colab": {
          "base_uri": "https://localhost:8080/",
          "height": 304
        },
        "outputId": "8b70b148-be29-4be4-9846-d8923854f639"
      },
      "cell_type": "code",
      "source": [
        "img_path = 'previous_test_concat.jpg'\n",
        "img = image.load_img(img_path, target_size=(224, 224))\n",
        "i_x = image.img_to_array(img)\n",
        "i_x = np.expand_dims(i_x, axis=0)\n",
        "i_x = preprocess_input(i_x)\n",
        "print('Input image shape:', i_x.shape)\n",
        "my_image = scipy.misc.imread(img_path)\n",
        "imshow(my_image)\n",
        "print(model_final.predict(i_x),np.argmax(model_final.predict(i_x))+1)"
      ],
      "execution_count": null,
      "outputs": [
        {
          "output_type": "stream",
          "text": [
            "Input image shape: (1, 224, 224, 3)\n",
            "[[0. 0. 0. 0. 0. 0. 0. 0. 1. 0.]] 9\n"
          ],
          "name": "stdout"
        },
        {
          "output_type": "display_data",
          "data": {
            "image/png": "[encoded data removed]",
            "text/plain": [
              "<matplotlib.figure.Figure at 0x7f68126489b0>"
            ]
          },
          "metadata": {
            "tags": []
          }
        }
      ]
    },
    {
      "metadata": {
        "id": "mFo9yF-GMgGQ"
      },
      "cell_type": "code",
      "source": [
        "y_pred_test = model_final.predict(X_test)\n",
        "y_pred_test_classes = np.argmax(y_pred_test, axis=1)\n",
        "y_pred_test_max_probas = np.max(y_pred_test, axis=1)"
      ],
      "execution_count": null,
      "outputs": []
    },
    {
      "metadata": {
        "id": "T7DEud4wNy1W",
        "colab": {
          "base_uri": "https://localhost:8080/",
          "height": 35
        },
        "outputId": "d6be1c09-6124-4842-b094-10debaddb82c"
      },
      "cell_type": "code",
      "source": [
        "Y_test_orig[1:10].T"
      ],
      "execution_count": null,
      "outputs": [
        {
          "output_type": "execute_result",
          "data": {
            "text/plain": [
              "array([[0, 0, 0, 0, 0, 0, 0, 0, 0]], dtype=int32)"
            ]
          },
          "metadata": {
            "tags": []
          },
          "execution_count": 23
        }
      ]
    },
    {
      "metadata": {
        "id": "wrta_CiQH_ek",
        "colab": {
          "base_uri": "https://localhost:8080/",
          "height": 438
        },
        "outputId": "f0ba1bac-d0ab-4c6b-d142-34ab2c93a707"
      },
      "cell_type": "code",
      "source": [
        "y_classes=['Begin','Choose','Connection','Navigation','Next','Previous','Start','Stop','Hello','Web']\n",
        "from sklearn.metrics import confusion_matrix,accuracy_score\n",
        "import matplotlib.pyplot as plt\n",
        "plt.figure(figsize=(7,6))\n",
        "plt.title('confusion matrix', fontsize=16)\n",
        "plt.imshow(confusion_matrix(Y_test_orig,y_pred_test_classes))\n",
        "plt.xticks(np.arange(10),y_classes,rotation=45,fontsize=12)\n",
        "plt.yticks(np.arange(10),y_classes,fontsize=12)\n",
        "plt.colorbar()\n",
        "plt.show()\n",
        "print('Test accuracy:',accuracy_score(Y_test_orig,y_pred_test_classes))"
      ],
      "execution_count": null,
      "outputs": [
        {
          "output_type": "display_data",
          "data": {
            "image/png": "[encoded data removed]",
            "text/plain": [
              "<matplotlib.figure.Figure at 0x7f6904e8f438>"
            ]
          },
          "metadata": {
            "tags": []
          }
        },
        {
          "output_type": "stream",
          "text": [
            "Test accuracy: 0.38\n"
          ],
          "name": "stdout"
        }
      ]
    }
  ]
}